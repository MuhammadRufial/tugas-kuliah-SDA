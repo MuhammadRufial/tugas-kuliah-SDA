{
  "nbformat": 4,
  "nbformat_minor": 0,
  "metadata": {
    "colab": {
      "name": "Tipe Data Set",
      "provenance": [],
      "authorship_tag": "ABX9TyM5IPAhAy7LAGjoGAGzSuDd",
      "include_colab_link": true
    },
    "kernelspec": {
      "name": "python3",
      "display_name": "Python 3"
    },
    "language_info": {
      "name": "python"
    }
  },
  "cells": [
    {
      "cell_type": "markdown",
      "metadata": {
        "id": "view-in-github",
        "colab_type": "text"
      },
      "source": [
        "<a href=\"https://colab.research.google.com/github/MuhammadRufial/tugas-kuliah-SDA/blob/main/Tipe_Data_Set.ipynb\" target=\"_parent\"><img src=\"https://colab.research.google.com/assets/colab-badge.svg\" alt=\"Open In Colab\"/></a>"
      ]
    },
    {
      "cell_type": "code",
      "execution_count": null,
      "metadata": {
        "id": "Dclj10U0zTww"
      },
      "outputs": [],
      "source": [
        "#membuat contoh Set\n",
        "\n",
        "nama = {\"rufial\", 10, False, 5, \"pai\"}\n",
        "#menampilkan set dengan pengurangan\n",
        "for i in nama :\n",
        "  print(i)\n",
        "\n",
        "nama=list (nama)\n",
        "#mengubdet set\n",
        "nama [0]= \"motor\"\n",
        "print(nama)\n",
        "nama=set(nama)\n",
        "#menghapus set\n",
        "nama.remove (\"motor\")\n",
        "print(nama)\n",
        "#menambahkan set\n",
        "nama.add (\"kayu\")\n",
        "print(nama)"
      ]
    }
  ]
}